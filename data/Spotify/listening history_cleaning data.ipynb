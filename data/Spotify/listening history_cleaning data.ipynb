{
 "cells": [
  {
   "cell_type": "code",
   "execution_count": 3,
   "id": "6bce6773",
   "metadata": {},
   "outputs": [
    {
     "name": "stdout",
     "output_type": "stream",
     "text": [
      "CSV file 'output.csv' has been created successfully with ID and converted datetime.\n"
     ]
    }
   ],
   "source": [
    "import json\n",
    "import csv\n",
    "from datetime import datetime\n",
    "\n",
    "def convert_to_datetime(time_str):\n",
    "    if time_str and isinstance(time_str, str):\n",
    "        try:\n",
    "            return datetime.strptime(time_str, \"%Y-%m-%d %H:%M\").strftime(\"%Y-%m-%d %H:%M:%S\")\n",
    "        except ValueError:\n",
    "            return time_str\n",
    "    return time_str\n",
    "\n",
    "# Read JSON data from file\n",
    "with open('Spotify/StreamingHistory_music_1.json', 'r') as json_file:\n",
    "    data = json.load(json_file)\n",
    "\n",
    "# Determine all possible keys\n",
    "all_keys = set()\n",
    "for item in data:\n",
    "    all_keys.update(item.keys())\n",
    "\n",
    "# Add 'id' to the set of keys\n",
    "all_keys.add('id')\n",
    "\n",
    "# Convert endTime to datetime format and add id\n",
    "for index, item in enumerate(data, start=1):\n",
    "    if 'endTime' in item:\n",
    "        item['endTime'] = convert_to_datetime(item['endTime'])\n",
    "    item['id'] = index\n",
    "\n",
    "# Write CSV file\n",
    "with open('Spotify/spotify_yui.csv', 'w', newline='') as csvfile:\n",
    "    fieldnames = ['id'] + sorted(all_keys - {'id'})  # Ensure 'id' is the first column\n",
    "    writer = csv.DictWriter(csvfile, fieldnames=fieldnames)\n",
    "    writer.writeheader()\n",
    "    for item in data:\n",
    "        writer.writerow(item)\n",
    "\n",
    "print(\"CSV file 'output.csv' has been created successfully with ID and converted datetime.\")"
   ]
  },
  {
   "cell_type": "code",
   "execution_count": null,
   "id": "b8652a44",
   "metadata": {},
   "outputs": [],
   "source": []
  }
 ],
 "metadata": {
  "kernelspec": {
   "display_name": "Python 3 (ipykernel)",
   "language": "python",
   "name": "python3"
  },
  "language_info": {
   "codemirror_mode": {
    "name": "ipython",
    "version": 3
   },
   "file_extension": ".py",
   "mimetype": "text/x-python",
   "name": "python",
   "nbconvert_exporter": "python",
   "pygments_lexer": "ipython3",
   "version": "3.9.7"
  }
 },
 "nbformat": 4,
 "nbformat_minor": 5
}
